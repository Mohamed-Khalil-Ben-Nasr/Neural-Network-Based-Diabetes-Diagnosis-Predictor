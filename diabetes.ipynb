{
 "cells": [
  {
   "cell_type": "code",
   "execution_count": 1,
   "metadata": {},
   "outputs": [
    {
     "name": "stdout",
     "output_type": "stream",
     "text": [
      "--2023-09-27 16:22:32--  http://www.lawrence.edu/fast/greggj/CMSC490/diabetes.csv\n",
      "Resolving www.lawrence.edu (www.lawrence.edu)... 143.44.124.14\n",
      "Connecting to www.lawrence.edu (www.lawrence.edu)|143.44.124.14|:80... "
     ]
    },
    {
     "name": "stdout",
     "output_type": "stream",
     "text": [
      "connected.\n",
      "HTTP request sent, awaiting response... 301 Moved Permanently\n",
      "Location: https://www.lawrence.edu/fast/greggj/CMSC490/diabetes.csv [following]\n",
      "--2023-09-27 16:22:32--  https://www.lawrence.edu/fast/greggj/CMSC490/diabetes.csv\n",
      "Connecting to www.lawrence.edu (www.lawrence.edu)|143.44.124.14|:443... connected.\n",
      "HTTP request sent, awaiting response... 302 Found\n",
      "Location: https://www7.lawrence.edu/fast/greggj/CMSC490/diabetes.csv [following]\n",
      "--2023-09-27 16:22:33--  https://www7.lawrence.edu/fast/greggj/CMSC490/diabetes.csv\n",
      "Resolving www7.lawrence.edu (www7.lawrence.edu)... 143.44.124.14\n",
      "Connecting to www7.lawrence.edu (www7.lawrence.edu)|143.44.124.14|:443... connected.\n",
      "HTTP request sent, awaiting response... 301 Moved Permanently\n",
      "Location: https://www2.lawrence.edu/fast/greggj/CMSC490/diabetes.csv [following]\n",
      "--2023-09-27 16:22:33--  https://www2.lawrence.edu/fast/greggj/CMSC490/diabetes.csv\n",
      "Resolving www2.lawrence.edu (www2.lawrence.edu)... 143.44.124.14\n",
      "Connecting to www2.lawrence.edu (www2.lawrence.edu)|143.44.124.14|:443... connected.\n",
      "HTTP request sent, awaiting response... 301 Moved Permanently\n",
      "Location: http://www2.lawrence.edu/fast/GREGGJ/CMSC490/diabetes.csv [following]\n",
      "--2023-09-27 16:22:33--  http://www2.lawrence.edu/fast/GREGGJ/CMSC490/diabetes.csv\n",
      "Connecting to www2.lawrence.edu (www2.lawrence.edu)|143.44.124.14|:80... connected.\n",
      "HTTP request sent, awaiting response... 200 OK\n",
      "Length: 20859 (20K) [text/csv]\n",
      "Saving to: ‘diabetes.csv’\n",
      "\n",
      "diabetes.csv        100%[===================>]  20.37K  --.-KB/s    in 0.04s   \n",
      "\n",
      "2023-09-27 16:22:33 (548 KB/s) - ‘diabetes.csv’ saved [20859/20859]\n",
      "\n"
     ]
    }
   ],
   "source": [
    "!wget http://www.lawrence.edu/fast/greggj/CMSC490/diabetes.csv"
   ]
  },
  {
   "cell_type": "code",
   "execution_count": 2,
   "metadata": {},
   "outputs": [
    {
     "name": "stdout",
     "output_type": "stream",
     "text": [
      "520 17\n"
     ]
    }
   ],
   "source": [
    "import pandas as pd\n",
    "df = pd.read_csv('diabetes.csv')\n",
    "rows,cols = df.shape\n",
    "print(rows,cols)"
   ]
  },
  {
   "cell_type": "code",
   "execution_count": 3,
   "metadata": {},
   "outputs": [],
   "source": [
    "#transform a simple categorical column with two categories into 0/1 encoding in Pandas.\n",
    "df['gender'] = (df['gender'] == 'Female').astype(int)\n",
    "\n",
    "#normalize age\n",
    "# Calculate the minimum and maximum values of the data\n",
    "min_age = df['age'].min()\n",
    "max_age = df['age'].max()\n",
    "\n",
    "# Apply the Min-Max normalization formula to the data\n",
    "df['normalized_age'] = ((0.99 - 0.01) * (df['age'] - min_age) / (max_age - min_age)) + 0.0"
   ]
  },
  {
   "cell_type": "code",
   "execution_count": 4,
   "metadata": {},
   "outputs": [
    {
     "data": {
      "text/html": [
       "<div>\n",
       "<style scoped>\n",
       "    .dataframe tbody tr th:only-of-type {\n",
       "        vertical-align: middle;\n",
       "    }\n",
       "\n",
       "    .dataframe tbody tr th {\n",
       "        vertical-align: top;\n",
       "    }\n",
       "\n",
       "    .dataframe thead th {\n",
       "        text-align: right;\n",
       "    }\n",
       "</style>\n",
       "<table border=\"1\" class=\"dataframe\">\n",
       "  <thead>\n",
       "    <tr style=\"text-align: right;\">\n",
       "      <th></th>\n",
       "      <th>age</th>\n",
       "      <th>gender</th>\n",
       "      <th>polyuria</th>\n",
       "      <th>polydipsia</th>\n",
       "      <th>sudden_weight_loss</th>\n",
       "      <th>weakness</th>\n",
       "      <th>polyphagia</th>\n",
       "      <th>genital_thrush</th>\n",
       "      <th>visual_blurring</th>\n",
       "      <th>itching</th>\n",
       "      <th>irritability</th>\n",
       "      <th>delayed_healing</th>\n",
       "      <th>partial_paresis</th>\n",
       "      <th>muscle_stiffness</th>\n",
       "      <th>alopecia</th>\n",
       "      <th>obesity</th>\n",
       "      <th>class</th>\n",
       "      <th>normalized_age</th>\n",
       "    </tr>\n",
       "  </thead>\n",
       "  <tbody>\n",
       "    <tr>\n",
       "      <th>69</th>\n",
       "      <td>50</td>\n",
       "      <td>1</td>\n",
       "      <td>1</td>\n",
       "      <td>1</td>\n",
       "      <td>1</td>\n",
       "      <td>1</td>\n",
       "      <td>1</td>\n",
       "      <td>0</td>\n",
       "      <td>1</td>\n",
       "      <td>0</td>\n",
       "      <td>0</td>\n",
       "      <td>0</td>\n",
       "      <td>1</td>\n",
       "      <td>0</td>\n",
       "      <td>0</td>\n",
       "      <td>1</td>\n",
       "      <td>1</td>\n",
       "      <td>0.450270</td>\n",
       "    </tr>\n",
       "    <tr>\n",
       "      <th>33</th>\n",
       "      <td>54</td>\n",
       "      <td>0</td>\n",
       "      <td>1</td>\n",
       "      <td>1</td>\n",
       "      <td>1</td>\n",
       "      <td>1</td>\n",
       "      <td>0</td>\n",
       "      <td>0</td>\n",
       "      <td>1</td>\n",
       "      <td>1</td>\n",
       "      <td>1</td>\n",
       "      <td>1</td>\n",
       "      <td>1</td>\n",
       "      <td>1</td>\n",
       "      <td>0</td>\n",
       "      <td>0</td>\n",
       "      <td>1</td>\n",
       "      <td>0.503243</td>\n",
       "    </tr>\n",
       "    <tr>\n",
       "      <th>443</th>\n",
       "      <td>35</td>\n",
       "      <td>0</td>\n",
       "      <td>1</td>\n",
       "      <td>0</td>\n",
       "      <td>1</td>\n",
       "      <td>0</td>\n",
       "      <td>0</td>\n",
       "      <td>0</td>\n",
       "      <td>0</td>\n",
       "      <td>0</td>\n",
       "      <td>0</td>\n",
       "      <td>0</td>\n",
       "      <td>1</td>\n",
       "      <td>0</td>\n",
       "      <td>1</td>\n",
       "      <td>0</td>\n",
       "      <td>1</td>\n",
       "      <td>0.251622</td>\n",
       "    </tr>\n",
       "    <tr>\n",
       "      <th>420</th>\n",
       "      <td>47</td>\n",
       "      <td>1</td>\n",
       "      <td>0</td>\n",
       "      <td>0</td>\n",
       "      <td>1</td>\n",
       "      <td>1</td>\n",
       "      <td>1</td>\n",
       "      <td>0</td>\n",
       "      <td>0</td>\n",
       "      <td>0</td>\n",
       "      <td>0</td>\n",
       "      <td>0</td>\n",
       "      <td>0</td>\n",
       "      <td>1</td>\n",
       "      <td>0</td>\n",
       "      <td>0</td>\n",
       "      <td>1</td>\n",
       "      <td>0.410541</td>\n",
       "    </tr>\n",
       "    <tr>\n",
       "      <th>352</th>\n",
       "      <td>67</td>\n",
       "      <td>0</td>\n",
       "      <td>1</td>\n",
       "      <td>0</td>\n",
       "      <td>0</td>\n",
       "      <td>1</td>\n",
       "      <td>1</td>\n",
       "      <td>0</td>\n",
       "      <td>1</td>\n",
       "      <td>1</td>\n",
       "      <td>1</td>\n",
       "      <td>1</td>\n",
       "      <td>0</td>\n",
       "      <td>1</td>\n",
       "      <td>1</td>\n",
       "      <td>1</td>\n",
       "      <td>0</td>\n",
       "      <td>0.675405</td>\n",
       "    </tr>\n",
       "  </tbody>\n",
       "</table>\n",
       "</div>"
      ],
      "text/plain": [
       "     age  gender  polyuria  polydipsia  sudden_weight_loss  weakness  \\\n",
       "69    50       1         1           1                   1         1   \n",
       "33    54       0         1           1                   1         1   \n",
       "443   35       0         1           0                   1         0   \n",
       "420   47       1         0           0                   1         1   \n",
       "352   67       0         1           0                   0         1   \n",
       "\n",
       "     polyphagia  genital_thrush  visual_blurring  itching  irritability  \\\n",
       "69            1               0                1        0             0   \n",
       "33            0               0                1        1             1   \n",
       "443           0               0                0        0             0   \n",
       "420           1               0                0        0             0   \n",
       "352           1               0                1        1             1   \n",
       "\n",
       "     delayed_healing  partial_paresis  muscle_stiffness  alopecia  obesity  \\\n",
       "69                 0                1                 0         0        1   \n",
       "33                 1                1                 1         0        0   \n",
       "443                0                1                 0         1        0   \n",
       "420                0                0                 1         0        0   \n",
       "352                1                0                 1         1        1   \n",
       "\n",
       "     class  normalized_age  \n",
       "69       1        0.450270  \n",
       "33       1        0.503243  \n",
       "443      1        0.251622  \n",
       "420      1        0.410541  \n",
       "352      0        0.675405  "
      ]
     },
     "execution_count": 4,
     "metadata": {},
     "output_type": "execute_result"
    }
   ],
   "source": [
    "df = df.sample(frac=1)\n",
    "df.head()"
   ]
  },
  {
   "cell_type": "code",
   "execution_count": 5,
   "metadata": {},
   "outputs": [
    {
     "name": "stdout",
     "output_type": "stream",
     "text": [
      "(520, 16)\n"
     ]
    }
   ],
   "source": [
    "input = df.drop(['class','age'],axis=1).to_numpy()\n",
    "output = df['class'].to_numpy()\n",
    "print(input.shape)\n",
    "train_data = input[:416,:]\n",
    "train_targets = output[:416]\n",
    "test_data = input[416:,:]\n",
    "test_targets = output[416:]"
   ]
  },
  {
   "cell_type": "code",
   "execution_count": 12,
   "metadata": {},
   "outputs": [],
   "source": [
    "from tensorflow import keras\n",
    "from tensorflow.keras import layers\n",
    "\n",
    "model = keras.Sequential([\n",
    "    layers.Dense(64, activation=\"relu\"),\n",
    "    layers.Dense(64, activation=\"relu\"),\n",
    "    layers.Dense(1, activation=\"sigmoid\")\n",
    "])"
   ]
  },
  {
   "cell_type": "code",
   "execution_count": 13,
   "metadata": {},
   "outputs": [],
   "source": [
    "model.compile(optimizer=\"rmsprop\",\n",
    "              loss=\"binary_crossentropy\",\n",
    "              metrics=[\"accuracy\"])"
   ]
  },
  {
   "cell_type": "code",
   "execution_count": 15,
   "metadata": {},
   "outputs": [
    {
     "name": "stdout",
     "output_type": "stream",
     "text": [
      "Epoch 1/20\n",
      "11/11 [==============================] - 0s 3ms/step - loss: 0.0712 - accuracy: 0.9784 - val_loss: 0.1595 - val_accuracy: 0.9423\n",
      "Epoch 2/20\n",
      " 1/11 [=>............................] - ETA: 0s - loss: 0.0606 - accuracy: 0.9750"
     ]
    },
    {
     "name": "stdout",
     "output_type": "stream",
     "text": [
      "11/11 [==============================] - 0s 2ms/step - loss: 0.0677 - accuracy: 0.9784 - val_loss: 0.1459 - val_accuracy: 0.9423\n",
      "Epoch 3/20\n",
      "11/11 [==============================] - 0s 2ms/step - loss: 0.0635 - accuracy: 0.9784 - val_loss: 0.1412 - val_accuracy: 0.9519\n",
      "Epoch 4/20\n",
      "11/11 [==============================] - 0s 2ms/step - loss: 0.0632 - accuracy: 0.9784 - val_loss: 0.1400 - val_accuracy: 0.9423\n",
      "Epoch 5/20\n",
      "11/11 [==============================] - 0s 2ms/step - loss: 0.0578 - accuracy: 0.9856 - val_loss: 0.1457 - val_accuracy: 0.9423\n",
      "Epoch 6/20\n",
      "11/11 [==============================] - 0s 2ms/step - loss: 0.0540 - accuracy: 0.9832 - val_loss: 0.1536 - val_accuracy: 0.9423\n",
      "Epoch 7/20\n",
      "11/11 [==============================] - 0s 2ms/step - loss: 0.0512 - accuracy: 0.9856 - val_loss: 0.1442 - val_accuracy: 0.9423\n",
      "Epoch 8/20\n",
      "11/11 [==============================] - 0s 3ms/step - loss: 0.0493 - accuracy: 0.9856 - val_loss: 0.1409 - val_accuracy: 0.9423\n",
      "Epoch 9/20\n",
      "11/11 [==============================] - 0s 2ms/step - loss: 0.0483 - accuracy: 0.9808 - val_loss: 0.1301 - val_accuracy: 0.9423\n",
      "Epoch 10/20\n",
      "11/11 [==============================] - 0s 2ms/step - loss: 0.0435 - accuracy: 0.9856 - val_loss: 0.1424 - val_accuracy: 0.9423\n",
      "Epoch 11/20\n",
      "11/11 [==============================] - 0s 2ms/step - loss: 0.0423 - accuracy: 0.9856 - val_loss: 0.1424 - val_accuracy: 0.9423\n",
      "Epoch 12/20\n",
      "11/11 [==============================] - 0s 3ms/step - loss: 0.0395 - accuracy: 0.9832 - val_loss: 0.1340 - val_accuracy: 0.9519\n",
      "Epoch 13/20\n",
      "11/11 [==============================] - 0s 2ms/step - loss: 0.0370 - accuracy: 0.9880 - val_loss: 0.1368 - val_accuracy: 0.9423\n",
      "Epoch 14/20\n",
      "11/11 [==============================] - 0s 3ms/step - loss: 0.0359 - accuracy: 0.9904 - val_loss: 0.1527 - val_accuracy: 0.9423\n",
      "Epoch 15/20\n",
      "11/11 [==============================] - 0s 2ms/step - loss: 0.0330 - accuracy: 0.9904 - val_loss: 0.1340 - val_accuracy: 0.9519\n",
      "Epoch 16/20\n",
      "11/11 [==============================] - 0s 3ms/step - loss: 0.0310 - accuracy: 0.9928 - val_loss: 0.1342 - val_accuracy: 0.9519\n",
      "Epoch 17/20\n",
      "11/11 [==============================] - 0s 2ms/step - loss: 0.0307 - accuracy: 0.9928 - val_loss: 0.1341 - val_accuracy: 0.9519\n",
      "Epoch 18/20\n",
      "11/11 [==============================] - 0s 2ms/step - loss: 0.0308 - accuracy: 0.9928 - val_loss: 0.1324 - val_accuracy: 0.9519\n",
      "Epoch 19/20\n",
      "11/11 [==============================] - 0s 2ms/step - loss: 0.0268 - accuracy: 0.9928 - val_loss: 0.1370 - val_accuracy: 0.9519\n",
      "Epoch 20/20\n",
      "11/11 [==============================] - 0s 2ms/step - loss: 0.0265 - accuracy: 0.9952 - val_loss: 0.1468 - val_accuracy: 0.9519\n"
     ]
    }
   ],
   "source": [
    "from tensorflow import keras\n",
    "\n",
    "history = model.fit(train_data, train_targets,\n",
    "              epochs=20, batch_size=40,validation_data=(test_data, test_targets))"
   ]
  },
  {
   "cell_type": "code",
   "execution_count": 11,
   "metadata": {},
   "outputs": [
    {
     "data": {
      "image/png": "[encoded data removed]",
      "text/plain": [
       "<Figure size 432x288 with 1 Axes>"
      ]
     },
     "metadata": {
      "needs_background": "light"
     },
     "output_type": "display_data"
    }
   ],
   "source": [
    "import matplotlib.pyplot as plt\n",
    "val_loss = history.history[\"val_loss\"]\n",
    "epochs = range(1, len(val_loss) + 1)\n",
    "plt.title(\"Validation loss\")\n",
    "plt.plot(epochs, val_loss, \"b\", label=\"Validation loss\")\n",
    "plt.xlabel(\"Epochs\")\n",
    "plt.ylabel(\"Loss\")\n",
    "plt.show()"
   ]
  }
 ],
 "metadata": {
  "kernelspec": {
   "display_name": "Python 3",
   "language": "python",
   "name": "python3"
  },
  "language_info": {
   "codemirror_mode": {
    "name": "ipython",
    "version": 3
   },
   "file_extension": ".py",
   "mimetype": "text/x-python",
   "name": "python",
   "nbconvert_exporter": "python",
   "pygments_lexer": "ipython3",
   "version": "3.10.12"
  },
  "orig_nbformat": 4
 },
 "nbformat": 4,
 "nbformat_minor": 2
}
